{
 "cells": [
  {
   "cell_type": "code",
   "execution_count": 2,
   "id": "06c1fd2f-95de-433f-9ac5-caf1d2320a57",
   "metadata": {
    "tags": []
   },
   "outputs": [],
   "source": [
    "# Importing standard Qiskit libraries\n",
    "from qiskit import QuantumCircuit, transpile\n",
    "from qiskit.tools.jupyter import *\n",
    "from qiskit.visualization import *\n",
    "from ibm_quantum_widgets import *\n",
    "\n",
    "# qiskit-ibmq-provider has been deprecated.\n",
    "# Please see the Migration Guides in https://ibm.biz/provider_migration_guide for more detail.\n",
    "from qiskit_ibm_runtime import QiskitRuntimeService, Sampler, Estimator, Session, Options\n",
    "\n",
    "# Loading your IBM Quantum account(s)\n",
    "service = QiskitRuntimeService(channel=\"ibm_quantum\")\n",
    "\n",
    "\n",
    "\n",
    "\n",
    "def return_chain(N_chain,value = 1):\n",
    "    Total = []\n",
    "    for j in range(N_chain):\n",
    "        temp=\"\"\n",
    "        for k in range(N_chain):\n",
    "            if k==j or k==(j+1)%N_chain:\n",
    "                temp+=\"Z\"\n",
    "            else:\n",
    "                temp+=\"I\"\n",
    "        Total .append((temp,value))\n",
    "    return Total\n",
    "\n",
    "\n",
    "# Invoke a primitive. For more details see https://qiskit.org/documentation/partners/qiskit_ibm_runtime/tutorials.html\n",
    "# result = Sampler(\"ibmq_qasm_simulator\").run(circuits).result()"
   ]
  },
  {
   "cell_type": "markdown",
   "id": "2a7edb04-010f-4607-a49b-f69f3014247d",
   "metadata": {},
   "source": [
    "# Antiferro"
   ]
  },
  {
   "cell_type": "code",
   "execution_count": 30,
   "id": "95c1aff6-8c98-4f31-80a7-79664e1ad364",
   "metadata": {
    "tags": []
   },
   "outputs": [
    {
     "name": "stdout",
     "output_type": "stream",
     "text": [
      "[ 0.15577444  1.79779849  0.86238115  0.08334706  2.01902493  1.10946141\n",
      "  1.96688152  0.73177885  0.32660418 -0.29149005  2.27603349  1.17706414\n",
      "  1.05671237  1.85061356  2.42042323  0.84496603]\n",
      "-2.186\n"
     ]
    }
   ],
   "source": [
    "from qiskit.circuit.library import TwoLocal\n",
    "from qiskit.quantum_info import SparsePauliOp\n",
    "from qiskit import QuantumCircuit\n",
    "from qiskit_ibm_runtime import QiskitRuntimeService, Estimator\n",
    "import numpy as np\n",
    "\n",
    "# Add your token below\n",
    "service = QiskitRuntimeService(\n",
    "    channel=\"ibm_quantum\",\n",
    ")\n",
    "\n",
    "\n",
    "def cost_function_vqe(theta):\n",
    "    observable = SparsePauliOp.from_list(return_chain(4))\n",
    "    reference_circuit = QuantumCircuit(4)\n",
    "    reference_circuit.x(0)\n",
    "\n",
    "    variational_form = TwoLocal(\n",
    "        4,\n",
    "        rotation_blocks=[\"rz\", \"ry\"],\n",
    "        entanglement_blocks=\"cx\",\n",
    "        entanglement=\"linear\",\n",
    "        reps=1,\n",
    "    )\n",
    "    ansatz = reference_circuit.compose(variational_form)\n",
    "\n",
    "    backend = service.backend(\"ibmq_qasm_simulator\")\n",
    "    \n",
    "    # Use estimator to get the expected values corresponding to each ansatz\n",
    "    estimator = Estimator(session=backend)\n",
    "    job = estimator.run(ansatz, observable, theta)\n",
    "    values = job.result().values\n",
    "\n",
    "    return values\n",
    "from qiskit.algorithms.optimizers import COBYLA\n",
    "\n",
    "initial_theta = np.ones(16)\n",
    "optimizer = COBYLA()\n",
    "\n",
    "optimizer_result = optimizer.minimize(fun=cost_function_vqe, x0=initial_theta)\n",
    "\n",
    "optimal_parameters = optimizer_result.x\n",
    "print(optimal_parameters)\n",
    "\n",
    "observable = SparsePauliOp.from_list(return_chain(4))\n",
    "reference_circuit = QuantumCircuit(4)\n",
    "reference_circuit.x(0)\n",
    "\n",
    "variational_form = TwoLocal(\n",
    "    4,\n",
    "    rotation_blocks=[\"rz\", \"ry\"],\n",
    "    entanglement_blocks=\"cx\",\n",
    "    entanglement=\"linear\",\n",
    "    reps=1,\n",
    ")\n",
    "ansatz = reference_circuit.compose(variational_form)\n",
    "solution = ansatz.bind_parameters(optimal_parameters)\n",
    "\n",
    "backend = service.backend(\"ibmq_qasm_simulator\")\n",
    "estimator = Estimator(session=backend)\n",
    "job = estimator.run(solution, observable)\n",
    "values = job.result().values\n",
    "\n",
    "experimental_min_eigenvalue = values[0]\n",
    "print(experimental_min_eigenvalue)"
   ]
  },
  {
   "cell_type": "markdown",
   "id": "aa2cf83d-4c97-4327-9f46-ab9bf62b982b",
   "metadata": {},
   "source": [
    "# ferro"
   ]
  },
  {
   "cell_type": "code",
   "execution_count": 29,
   "id": "a5f24ef0-a511-411b-9b44-5743b3e52660",
   "metadata": {
    "tags": []
   },
   "outputs": [
    {
     "name": "stdout",
     "output_type": "stream",
     "text": [
      "[ 2.37801454  0.4059556   0.84727162 -0.30737539  0.91999014  0.0067423\n",
      " -0.01119086 -0.06354428  2.95444516 -0.28363901  1.26767572  0.66696357\n",
      "  0.03043486  0.00930985  0.06525747 -0.05448787]\n",
      "-3.989\n"
     ]
    }
   ],
   "source": [
    "from qiskit.circuit.library import TwoLocal\n",
    "from qiskit.quantum_info import SparsePauliOp\n",
    "from qiskit import QuantumCircuit\n",
    "from qiskit_ibm_runtime import QiskitRuntimeService, Estimator\n",
    "import numpy as np\n",
    "\n",
    "# Add your token below\n",
    "service = QiskitRuntimeService(\n",
    "    channel=\"ibm_quantum\",\n",
    ")\n",
    "\n",
    "def return_chain(N_chain,value = 1):\n",
    "    Total = []\n",
    "    for j in range(N_chain):\n",
    "        temp=\"\"\n",
    "        for k in range(N_chain):\n",
    "            if k==j or k==(j+1)%N_chain:\n",
    "                temp+=\"Z\"\n",
    "            else:\n",
    "                temp+=\"I\"\n",
    "        Total .append((temp,value))\n",
    "    return Total\n",
    "\n",
    "def cost_function_vqe(theta):\n",
    "    observable = SparsePauliOp.from_list(return_chain(4,-1))\n",
    "    reference_circuit = QuantumCircuit(4)\n",
    "    reference_circuit.x(0)\n",
    "\n",
    "    variational_form = TwoLocal(\n",
    "        4,\n",
    "        rotation_blocks=[\"rz\", \"ry\"],\n",
    "        entanglement_blocks=\"cx\",\n",
    "        entanglement=\"linear\",\n",
    "        reps=1,\n",
    "    )\n",
    "    ansatz = reference_circuit.compose(variational_form)\n",
    "\n",
    "    backend = service.backend(\"ibmq_qasm_simulator\")\n",
    "    \n",
    "    # Use estimator to get the expected values corresponding to each ansatz\n",
    "    estimator = Estimator(session=backend)\n",
    "    job = estimator.run(ansatz, observable, theta)\n",
    "    values = job.result().values\n",
    "\n",
    "    return values\n",
    "from qiskit.algorithms.optimizers import COBYLA\n",
    "\n",
    "initial_theta = np.ones(16)\n",
    "optimizer = COBYLA()\n",
    "\n",
    "optimizer_result = optimizer.minimize(fun=cost_function_vqe, x0=initial_theta)\n",
    "\n",
    "optimal_parameters = optimizer_result.x\n",
    "print(optimal_parameters)\n",
    "\n",
    "observable = SparsePauliOp.from_list(return_chain(4,-1))\n",
    "reference_circuit = QuantumCircuit(4)\n",
    "reference_circuit.x(0)\n",
    "\n",
    "variational_form = TwoLocal(\n",
    "    4,\n",
    "    rotation_blocks=[\"rz\", \"ry\"],\n",
    "    entanglement_blocks=\"cx\",\n",
    "    entanglement=\"linear\",\n",
    "    reps=1,\n",
    ")\n",
    "ansatz = reference_circuit.compose(variational_form)\n",
    "solution = ansatz.bind_parameters(optimal_parameters)\n",
    "\n",
    "backend = service.backend(\"ibmq_qasm_simulator\")\n",
    "estimator = Estimator(session=backend)\n",
    "job = estimator.run(solution, observable)\n",
    "values = job.result().values\n",
    "\n",
    "experimental_min_eigenvalue = values[0]\n",
    "print(experimental_min_eigenvalue)"
   ]
  },
  {
   "cell_type": "code",
   "execution_count": null,
   "id": "8097136a-34b3-4a4c-8f7a-b91bc6c5f4a5",
   "metadata": {
    "tags": []
   },
   "outputs": [],
   "source": []
  }
 ],
 "metadata": {
  "kernelspec": {
   "display_name": "Python 3",
   "language": "python",
   "name": "python3"
  },
  "language_info": {
   "codemirror_mode": {
    "name": "ipython",
    "version": 3
   },
   "file_extension": ".py",
   "mimetype": "text/x-python",
   "name": "python",
   "nbconvert_exporter": "python",
   "pygments_lexer": "ipython3",
   "version": "3.9.16"
  },
  "widgets": {
   "application/vnd.jupyter.widget-state+json": {
    "state": {
     "017a64d701f14d309c75dfb38a378618": {
      "model_module": "@jupyter-widgets/controls",
      "model_module_version": "2.0.0",
      "model_name": "HTMLModel",
      "state": {
       "layout": "IPY_MODEL_390a9c2b8a7a445c959e906744614c3e",
       "style": "IPY_MODEL_19dbbaa0239f45cab036d98a63a24ef3",
       "value": "<h5>Status</h5>"
      }
     },
     "13ef0151b0de41089f8aba5003ed7aea": {
      "model_module": "@jupyter-widgets/base",
      "model_module_version": "2.0.0",
      "model_name": "LayoutModel",
      "state": {
       "width": "190px"
      }
     },
     "19dbbaa0239f45cab036d98a63a24ef3": {
      "model_module": "@jupyter-widgets/controls",
      "model_module_version": "2.0.0",
      "model_name": "HTMLStyleModel",
      "state": {
       "description_width": "",
       "font_size": null,
       "text_color": null
      }
     },
     "302997ddbecb4a999c8e51937156e2a1": {
      "model_module": "@jupyter-widgets/controls",
      "model_module_version": "2.0.0",
      "model_name": "GridBoxModel",
      "state": {
       "children": [
        "IPY_MODEL_7320e351841d412b8894d9b01d44205f"
       ],
       "layout": "IPY_MODEL_54ebc65d84394613982539a9b39f582a"
      }
     },
     "390a9c2b8a7a445c959e906744614c3e": {
      "model_module": "@jupyter-widgets/base",
      "model_module_version": "2.0.0",
      "model_name": "LayoutModel",
      "state": {
       "width": "95px"
      }
     },
     "3bd9dd9d61474e2a917d39bde452d0f8": {
      "model_module": "@jupyter-widgets/base",
      "model_module_version": "2.0.0",
      "model_name": "LayoutModel",
      "state": {
       "width": "145px"
      }
     },
     "45baa8a0af2b42ccbeacda950468f963": {
      "model_module": "@jupyter-widgets/controls",
      "model_module_version": "2.0.0",
      "model_name": "HTMLStyleModel",
      "state": {
       "description_width": "",
       "font_size": null,
       "text_color": null
      }
     },
     "47535bb4a26f4829b7caea7161bee1f5": {
      "model_module": "@jupyter-widgets/controls",
      "model_module_version": "2.0.0",
      "model_name": "ButtonStyleModel",
      "state": {
       "font_family": null,
       "font_size": null,
       "font_style": null,
       "font_variant": null,
       "font_weight": null,
       "text_color": null,
       "text_decoration": null
      }
     },
     "5378100df4c44d57b3c0981fc9585bae": {
      "model_module": "@jupyter-widgets/base",
      "model_module_version": "2.0.0",
      "model_name": "LayoutModel",
      "state": {
       "margin": "0px 0px 0px 37px",
       "width": "600px"
      }
     },
     "54ebc65d84394613982539a9b39f582a": {
      "model_module": "@jupyter-widgets/base",
      "model_module_version": "2.0.0",
      "model_name": "LayoutModel",
      "state": {
       "grid_template_areas": "\n                                       \". . . . right \"\n                                        ",
       "grid_template_columns": "20% 20% 20% 20% 20%",
       "width": "100%"
      }
     },
     "5da1c065798e44c286d232fb489e5803": {
      "model_module": "@jupyter-widgets/base",
      "model_module_version": "2.0.0",
      "model_name": "LayoutModel",
      "state": {}
     },
     "5e2df54cb99b4ffd876eafd11258add5": {
      "model_module": "@jupyter-widgets/base",
      "model_module_version": "2.0.0",
      "model_name": "LayoutModel",
      "state": {
       "margin": "0px 0px 10px 0px"
      }
     },
     "5eaa45323e8a4541b3fda7d6db064a7c": {
      "model_module": "@jupyter-widgets/controls",
      "model_module_version": "2.0.0",
      "model_name": "HTMLModel",
      "state": {
       "layout": "IPY_MODEL_13ef0151b0de41089f8aba5003ed7aea",
       "style": "IPY_MODEL_89ea59e5b3724565a9271d09b7527910",
       "value": "<h5>Job ID</h5>"
      }
     },
     "7320e351841d412b8894d9b01d44205f": {
      "model_module": "@jupyter-widgets/controls",
      "model_module_version": "2.0.0",
      "model_name": "ButtonModel",
      "state": {
       "button_style": "primary",
       "description": "Clear",
       "layout": "IPY_MODEL_73862b063e534c2a894c46906bde2795",
       "style": "IPY_MODEL_47535bb4a26f4829b7caea7161bee1f5",
       "tooltip": null
      }
     },
     "73862b063e534c2a894c46906bde2795": {
      "model_module": "@jupyter-widgets/base",
      "model_module_version": "2.0.0",
      "model_name": "LayoutModel",
      "state": {
       "grid_area": "right",
       "padding": "0px 0px 0px 0px",
       "width": "70px"
      }
     },
     "742d76834cb148278885035c32b142bf": {
      "model_module": "@jupyter-widgets/controls",
      "model_module_version": "2.0.0",
      "model_name": "HTMLStyleModel",
      "state": {
       "description_width": "",
       "font_size": null,
       "text_color": null
      }
     },
     "79de0f60d3274c8c8d28092e0e8c195d": {
      "model_module": "@jupyter-widgets/controls",
      "model_module_version": "2.0.0",
      "model_name": "HTMLModel",
      "state": {
       "layout": "IPY_MODEL_ac95c61abde248b59d929496c77d450c",
       "style": "IPY_MODEL_742d76834cb148278885035c32b142bf",
       "value": "<h5>Queue</h5>"
      }
     },
     "872d9498a7ed4af4b73164fbdd74677c": {
      "model_module": "@jupyter-widgets/controls",
      "model_module_version": "2.0.0",
      "model_name": "HTMLModel",
      "state": {
       "layout": "IPY_MODEL_3bd9dd9d61474e2a917d39bde452d0f8",
       "style": "IPY_MODEL_45baa8a0af2b42ccbeacda950468f963",
       "value": "<h5>Backend</h5>"
      }
     },
     "89ea59e5b3724565a9271d09b7527910": {
      "model_module": "@jupyter-widgets/controls",
      "model_module_version": "2.0.0",
      "model_name": "HTMLStyleModel",
      "state": {
       "description_width": "",
       "font_size": null,
       "text_color": null
      }
     },
     "8c80529aa14244329dbfc5e2c4a27708": {
      "model_module": "@jupyter-widgets/controls",
      "model_module_version": "2.0.0",
      "model_name": "HTMLModel",
      "state": {
       "layout": "IPY_MODEL_5da1c065798e44c286d232fb489e5803",
       "style": "IPY_MODEL_ea27c93b7e9d453ead029ea1399c5837",
       "value": "<h5>Message</h5>"
      }
     },
     "ac95c61abde248b59d929496c77d450c": {
      "model_module": "@jupyter-widgets/base",
      "model_module_version": "2.0.0",
      "model_name": "LayoutModel",
      "state": {
       "width": "70px"
      }
     },
     "b056464717874f09acb5c30e6beef44a": {
      "model_module": "@jupyter-widgets/controls",
      "model_module_version": "2.0.0",
      "model_name": "HTMLModel",
      "state": {
       "layout": "IPY_MODEL_5e2df54cb99b4ffd876eafd11258add5",
       "style": "IPY_MODEL_fb7b92ad6f4e4d2baafb1f95e8d49b13",
       "value": "<p style='font-family: IBM Plex Sans, Arial, Helvetica, sans-serif; font-size: 20px; font-weight: medium;'>Circuit Properties</p>"
      }
     },
     "ea27c93b7e9d453ead029ea1399c5837": {
      "model_module": "@jupyter-widgets/controls",
      "model_module_version": "2.0.0",
      "model_name": "HTMLStyleModel",
      "state": {
       "description_width": "",
       "font_size": null,
       "text_color": null
      }
     },
     "ed6f22df20f5495faa0fa09d70a5a2b7": {
      "model_module": "@jupyter-widgets/controls",
      "model_module_version": "2.0.0",
      "model_name": "HBoxModel",
      "state": {
       "children": [
        "IPY_MODEL_5eaa45323e8a4541b3fda7d6db064a7c",
        "IPY_MODEL_872d9498a7ed4af4b73164fbdd74677c",
        "IPY_MODEL_017a64d701f14d309c75dfb38a378618",
        "IPY_MODEL_79de0f60d3274c8c8d28092e0e8c195d",
        "IPY_MODEL_8c80529aa14244329dbfc5e2c4a27708"
       ],
       "layout": "IPY_MODEL_5378100df4c44d57b3c0981fc9585bae"
      }
     },
     "fb7b92ad6f4e4d2baafb1f95e8d49b13": {
      "model_module": "@jupyter-widgets/controls",
      "model_module_version": "2.0.0",
      "model_name": "HTMLStyleModel",
      "state": {
       "description_width": "",
       "font_size": null,
       "text_color": null
      }
     }
    },
    "version_major": 2,
    "version_minor": 0
   }
  }
 },
 "nbformat": 4,
 "nbformat_minor": 5
}
